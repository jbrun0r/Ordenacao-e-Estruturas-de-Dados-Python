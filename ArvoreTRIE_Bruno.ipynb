{
  "nbformat": 4,
  "nbformat_minor": 0,
  "metadata": {
    "colab": {
      "name": "ArvoreTRIE_Bruno.ipynb",
      "provenance": [],
      "authorship_tag": "ABX9TyNVahZjtyyZGyX6NRRYTqRg",
      "include_colab_link": true
    },
    "kernelspec": {
      "name": "python3",
      "display_name": "Python 3"
    },
    "language_info": {
      "name": "python"
    }
  },
  "cells": [
    {
      "cell_type": "markdown",
      "metadata": {
        "id": "view-in-github",
        "colab_type": "text"
      },
      "source": [
        "<a href=\"https://colab.research.google.com/github/jbrun0r/Ordenacao-e-Estruturas-de-Dados-Python/blob/main/ArvoreTRIE_Bruno.ipynb\" target=\"_parent\"><img src=\"https://colab.research.google.com/assets/colab-badge.svg\" alt=\"Open In Colab\"/></a>"
      ]
    },
    {
      "cell_type": "markdown",
      "metadata": {
        "id": "itLwdK6aJ5Nx"
      },
      "source": [
        "JOÃO BRUNO RODRIGUES DE FREITAS\n",
        "ARVORE TRIE"
      ]
    },
    {
      "cell_type": "code",
      "metadata": {
        "colab": {
          "base_uri": "https://localhost:8080/"
        },
        "id": "UQ66i3R-JjVo",
        "outputId": "4369935d-6708-4709-d53d-4a2e1cf21355"
      },
      "source": [
        "##ARVORE TRIE\n",
        "\n",
        "from typing import Tuple\n",
        "\n",
        "\n",
        "class Trie(object):\n",
        "\n",
        "    def __init__(self, char: str):\n",
        "        self.char = char\n",
        "        self.children = []\n",
        "        self.fim_da_palavra = False\n",
        "        self.contador = 1\n",
        "    \n",
        "\n",
        "def insere(raiz, palavra: str):\n",
        "    #ADICIONA UMA PALAVRA NA ESTRUTURA DO TRIE\n",
        "    no = raiz\n",
        "    for char in palavra:\n",
        "        encontrado_na_child = False\n",
        "        \n",
        "        for child in no.children: #PROCURA CHAR NO CHILD ATUAL\n",
        "            if child.char == char:\n",
        "                child.contador += 1 #ENCONTRADO, INCREMENTE CONTADOR\n",
        "                no = child  #E APONTE O NÓ PARA O CHILD QUE CONTÉM ESTE CHAR\n",
        "                encontrado_na_child = True\n",
        "                break\n",
        "        if not encontrado_na_child: #ADD NOVA CHILD, POIS NÃO FOI ENCONTRADO\n",
        "            novo_no = Trie(char)\n",
        "            no.children.append(novo_no)           \n",
        "            no = novo_no #APONTAR O NÓ PARA NOVA CHILD\n",
        "    no.fim_da_palavra = True #FIM DA PALAVRA\n",
        "\n",
        "\n",
        "def busca(raiz, prefix: str) -> Tuple[bool, int]:\n",
        "    # verificação: \n",
        "    # 1. SE O PREFIXO EXISTIR EM ALGUMAS DAS PALAVRAS ADCIONADAS ATÉ AGORA\n",
        "    # 2. AS PALAVRAS PODEM TER O PREFIXO\n",
        "\n",
        "    no = raiz\n",
        "    if not raiz.children: #SE O NÓ RAIZ NÃO TIVER FILHOS RETORNA FALSE, ARVORE VAZIA\n",
        "        return False, 0\n",
        "    for char in prefix:\n",
        "        char_not_found = True\n",
        "        #PESQUISA TODOS OS CHILDREN DO NÓ ATUAL\n",
        "        for child in no.children:\n",
        "            if child.char == char: #SE ENCONTRADO\n",
        "                char_not_found = False\n",
        "                no = child\n",
        "                break\n",
        "        if char_not_found:\n",
        "            return False, 0 #RETURN FALSE QUANDO NÃO ENCONTRADO CHAR\n",
        "\n",
        "    return True, no.contador\n",
        "\n",
        "if __name__ == \"__main__\":\n",
        "    raiz = Trie('*')\n",
        "    insere(raiz, 'bruno')\n",
        "    insere(raiz, 'arvore')\n",
        "\n",
        "    print('True ENCONTRADO/False && 0 não ENCONTRADO\\n1. SE O PREFIXO EXISTIR EM ALGUMAS DAS PALAVRAS ADCIONADAS ATÉ AGORA\\n2. AS PALAVRAS PODEM TER O PREFIXO\\n')\n",
        "\n",
        "    print(busca(raiz, 'ar'))\n",
        "    print(busca(raiz, 'vore'))\n",
        "    print(busca(raiz, 'arvore'))\n",
        "    print(busca(raiz, 'bruno'))\n",
        "    print(busca(raiz, 'bru'))\n",
        "    print(busca(raiz, 'joao'))"
      ],
      "execution_count": null,
      "outputs": [
        {
          "output_type": "stream",
          "name": "stdout",
          "text": [
            "True ENCONTRADO/False && 0 não ENCONTRADO\n",
            "1. SE O PREFIXO EXISTIR EM ALGUMAS DAS PALAVRAS ADCIONADAS ATÉ AGORA\n",
            "2. AS PALAVRAS PODEM TER O PREFIXO\n",
            "\n",
            "(True, 1)\n",
            "(False, 0)\n",
            "(True, 1)\n",
            "(True, 1)\n",
            "(True, 1)\n",
            "(False, 0)\n"
          ]
        }
      ]
    }
  ]
}